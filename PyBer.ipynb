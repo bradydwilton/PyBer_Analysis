{
 "metadata": {
  "language_info": {
   "codemirror_mode": {
    "name": "ipython",
    "version": 3
   },
   "file_extension": ".py",
   "mimetype": "text/x-python",
   "name": "python",
   "nbconvert_exporter": "python",
   "pygments_lexer": "ipython3",
   "version": "3.7.9-final"
  },
  "orig_nbformat": 2,
  "kernelspec": {
   "name": "pythondata",
   "display_name": "PythonData",
   "language": "python"
  }
 },
 "nbformat": 4,
 "nbformat_minor": 2,
 "cells": [
  {
   "cell_type": "code",
   "execution_count": 10,
   "metadata": {},
   "outputs": [],
   "source": [
    "%matplotlib inline\n",
    "import matplotlib.pyplot as plt\n",
    "import numpy as np\n",
    "import pandas as pd\n",
    "import os\n",
    "import statistics\n",
    "import datetime"
   ]
  },
  {
   "cell_type": "code",
   "execution_count": 4,
   "metadata": {},
   "outputs": [],
   "source": [
    "city_data_path = os.path.join('Resources','city_data.csv')\n",
    "ride_data_path = os.path.join('Resources','ride_data.csv')"
   ]
  },
  {
   "cell_type": "code",
   "execution_count": 5,
   "metadata": {},
   "outputs": [],
   "source": [
    "city_data_df = pd.read_csv(city_data_path)\n",
    "ride_data_df = pd.read_csv(ride_data_path)"
   ]
  },
  {
   "cell_type": "code",
   "execution_count": 9,
   "metadata": {},
   "outputs": [
    {
     "output_type": "execute_result",
     "data": {
      "text/plain": [
       "city        object\n",
       "date        object\n",
       "fare       float64\n",
       "ride_id      int64\n",
       "dtype: object"
      ]
     },
     "metadata": {},
     "execution_count": 9
    }
   ],
   "source": [
    "ride_data_df.dtypes"
   ]
  },
  {
   "cell_type": "code",
   "execution_count": 12,
   "metadata": {},
   "outputs": [
    {
     "output_type": "execute_result",
     "data": {
      "text/plain": [
       "                 city                 date   fare        ride_id\n",
       "2370      Michaelberg  2019-04-29 17:04:39  13.38  8550365057598\n",
       "2371  Lake Latoyabury  2019-01-30 00:05:47  20.76  9018727594352\n",
       "2372      North Jaime  2019-02-10 21:03:50  11.11  2781339863778\n",
       "2373     West Heather  2019-05-07 19:22:15  44.94  4256853490277\n",
       "2374       Newtonview  2019-04-25 10:20:13  55.84  9990581345298"
      ],
      "text/html": "<div>\n<style scoped>\n    .dataframe tbody tr th:only-of-type {\n        vertical-align: middle;\n    }\n\n    .dataframe tbody tr th {\n        vertical-align: top;\n    }\n\n    .dataframe thead th {\n        text-align: right;\n    }\n</style>\n<table border=\"1\" class=\"dataframe\">\n  <thead>\n    <tr style=\"text-align: right;\">\n      <th></th>\n      <th>city</th>\n      <th>date</th>\n      <th>fare</th>\n      <th>ride_id</th>\n    </tr>\n  </thead>\n  <tbody>\n    <tr>\n      <th>2370</th>\n      <td>Michaelberg</td>\n      <td>2019-04-29 17:04:39</td>\n      <td>13.38</td>\n      <td>8550365057598</td>\n    </tr>\n    <tr>\n      <th>2371</th>\n      <td>Lake Latoyabury</td>\n      <td>2019-01-30 00:05:47</td>\n      <td>20.76</td>\n      <td>9018727594352</td>\n    </tr>\n    <tr>\n      <th>2372</th>\n      <td>North Jaime</td>\n      <td>2019-02-10 21:03:50</td>\n      <td>11.11</td>\n      <td>2781339863778</td>\n    </tr>\n    <tr>\n      <th>2373</th>\n      <td>West Heather</td>\n      <td>2019-05-07 19:22:15</td>\n      <td>44.94</td>\n      <td>4256853490277</td>\n    </tr>\n    <tr>\n      <th>2374</th>\n      <td>Newtonview</td>\n      <td>2019-04-25 10:20:13</td>\n      <td>55.84</td>\n      <td>9990581345298</td>\n    </tr>\n  </tbody>\n</table>\n</div>"
     },
     "metadata": {},
     "execution_count": 12
    }
   ],
   "source": [
    "ride_data_df.tail()"
   ]
  },
  {
   "cell_type": "code",
   "execution_count": 13,
   "metadata": {},
   "outputs": [
    {
     "output_type": "execute_result",
     "data": {
      "text/plain": [
       "city            object\n",
       "driver_count     int64\n",
       "type            object\n",
       "dtype: object"
      ]
     },
     "metadata": {},
     "execution_count": 13
    }
   ],
   "source": [
    "city_data_df.dtypes"
   ]
  },
  {
   "cell_type": "code",
   "execution_count": 14,
   "metadata": {},
   "outputs": [
    {
     "output_type": "execute_result",
     "data": {
      "text/plain": [
       "                city  driver_count   type\n",
       "115     Bradshawfurt             7  Rural\n",
       "116     New Ryantown             2  Rural\n",
       "117   Randallchester             9  Rural\n",
       "118      Jessicaport             1  Rural\n",
       "119  South Saramouth             7  Rural"
      ],
      "text/html": "<div>\n<style scoped>\n    .dataframe tbody tr th:only-of-type {\n        vertical-align: middle;\n    }\n\n    .dataframe tbody tr th {\n        vertical-align: top;\n    }\n\n    .dataframe thead th {\n        text-align: right;\n    }\n</style>\n<table border=\"1\" class=\"dataframe\">\n  <thead>\n    <tr style=\"text-align: right;\">\n      <th></th>\n      <th>city</th>\n      <th>driver_count</th>\n      <th>type</th>\n    </tr>\n  </thead>\n  <tbody>\n    <tr>\n      <th>115</th>\n      <td>Bradshawfurt</td>\n      <td>7</td>\n      <td>Rural</td>\n    </tr>\n    <tr>\n      <th>116</th>\n      <td>New Ryantown</td>\n      <td>2</td>\n      <td>Rural</td>\n    </tr>\n    <tr>\n      <th>117</th>\n      <td>Randallchester</td>\n      <td>9</td>\n      <td>Rural</td>\n    </tr>\n    <tr>\n      <th>118</th>\n      <td>Jessicaport</td>\n      <td>1</td>\n      <td>Rural</td>\n    </tr>\n    <tr>\n      <th>119</th>\n      <td>South Saramouth</td>\n      <td>7</td>\n      <td>Rural</td>\n    </tr>\n  </tbody>\n</table>\n</div>"
     },
     "metadata": {},
     "execution_count": 14
    }
   ],
   "source": [
    "city_data_df.tail()"
   ]
  },
  {
   "cell_type": "code",
   "execution_count": null,
   "metadata": {},
   "outputs": [],
   "source": []
  }
 ]
}